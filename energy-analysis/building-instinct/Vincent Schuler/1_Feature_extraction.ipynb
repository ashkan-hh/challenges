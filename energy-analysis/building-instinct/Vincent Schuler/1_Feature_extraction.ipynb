{
 "cells": [
  {
   "cell_type": "markdown",
   "id": "93223d47-95a4-43d5-989a-c2e4682a8dbd",
   "metadata": {},
   "source": [
    "# <span style=\"color:orange\">**Feature Extraction**</span>\n",
    "- This notebook generates 2 CSV, one with training data and one with test data. It extracts features from individual building file and then concatenate them.\n",
    "- Generating these 2 files ise time-consuming (~12h for train, ~2h30 for test).\n",
    "- All features are not useful for training/inference, but only 10k/50K. However, better features selection could improve the model.\n",
    "___"
   ]
  },
  {
   "cell_type": "markdown",
   "id": "057bcf01-1edb-4e4d-9768-430f8700aa9b",
   "metadata": {},
   "source": [
    "## **Librairies**"
   ]
  },
  {
   "cell_type": "code",
   "execution_count": 1,
   "id": "9d4183ca-60aa-46f1-a1e0-651223bf8e00",
   "metadata": {},
   "outputs": [],
   "source": [
    "# Import useful librairies\n",
    "from utils_librairies import *"
   ]
  },
  {
   "cell_type": "markdown",
   "id": "a0b97ce6-e66c-4ce8-8792-159130c01ea4",
   "metadata": {},
   "source": [
    "## **Directory Paths**"
   ]
  },
  {
   "cell_type": "code",
   "execution_count": 2,
   "id": "080f1cb0-14f1-41ba-a17b-bc4bf2728512",
   "metadata": {},
   "outputs": [],
   "source": [
    "# Import useful paths\n",
    "from utils_paths import *"
   ]
  },
  {
   "cell_type": "markdown",
   "id": "3fd16450-d685-4fe1-acd7-96a08bc86244",
   "metadata": {},
   "source": [
    "## **Import function to extract features**"
   ]
  },
  {
   "cell_type": "code",
   "execution_count": 3,
   "id": "3a885b05-a75b-4a74-9b23-2ce612d89b3d",
   "metadata": {},
   "outputs": [],
   "source": [
    "from utils_features_creation import *"
   ]
  },
  {
   "cell_type": "markdown",
   "id": "8d70ca51-82fd-442d-96f6-419ff4e2478f",
   "metadata": {},
   "source": [
    "___\n",
    "___\n",
    "# **Load useful columns that will be saved in the csv**\n",
    "This avoids to save all columns in the CSV for training and inference, in order to save memory."
   ]
  },
  {
   "cell_type": "code",
   "execution_count": 4,
   "id": "cd2fedd7-f075-42cb-a2b7-8f49179f137d",
   "metadata": {},
   "outputs": [
    {
     "name": "stdout",
     "output_type": "stream",
     "text": [
      "Useful columns : 11021.\n"
     ]
    }
   ],
   "source": [
    "# Load useful columns. The rest is not used in the process (modelisation and inference)\n",
    "useful_cols = joblib.load(feats_dir + \"useful_cols.joblib\")\n",
    "print(f\"Useful columns : {len(useful_cols)}.\")"
   ]
  },
  {
   "cell_type": "markdown",
   "id": "29ccfcef-b6f0-46a8-a986-75c770cf500e",
   "metadata": {},
   "source": [
    "___\n",
    "___\n",
    "# **Create <u>train</u> df**\n",
    "\n",
    "/!\\ This part is not mandatory to run inference. Only test.csv file needs to be generated."
   ]
  },
  {
   "cell_type": "code",
   "execution_count": null,
   "id": "cd4bf0b0-66a9-4cc1-9983-d01027faa683",
   "metadata": {
    "tags": []
   },
   "outputs": [
    {
     "name": "stderr",
     "output_type": "stream",
     "text": [
      "  0%|          | 36/7200 [03:02<10:29:58,  5.28s/it]"
     ]
    }
   ],
   "source": [
    "%%time\n",
    "\n",
    "# Initialize a dataframe\n",
    "df = None\n",
    "\n",
    "# Process all files\n",
    "for path in tqdm(sorted(os.listdir(train_filedir))) :\n",
    "    \n",
    "    # Avoid strange files\n",
    "    if '(' in path or not(path.endswith('parquet')) : continue\n",
    "    \n",
    "    # Open file and create features\n",
    "    df_tmp = create_df_from_filepath(train_filedir + path)\n",
    "            \n",
    "    # Complete dataframe\n",
    "    if df is None :\n",
    "        df = df_tmp.copy()\n",
    "    else :\n",
    "        df = pd.concat([df, df_tmp[useful_cols]])\n",
    "    \n",
    "# Show\n",
    "print(df.shape)\n",
    "df.head()"
   ]
  },
  {
   "cell_type": "markdown",
   "id": "07a45003-1772-4bbf-a022-64c2459f2e82",
   "metadata": {},
   "source": [
    "## **Export csv**"
   ]
  },
  {
   "cell_type": "code",
   "execution_count": null,
   "id": "59f7ab82-2fc1-410b-ba82-97a164be1c09",
   "metadata": {},
   "outputs": [],
   "source": [
    "%%time\n",
    "\n",
    "# Save to csv for later use\n",
    "df.to_csv('df_train.csv', index=False)"
   ]
  },
  {
   "cell_type": "markdown",
   "id": "38402d00-647b-4b95-bf96-ee9610dfbd1d",
   "metadata": {},
   "source": [
    "___\n",
    "___\n",
    "# **Create <u>test</u> df**"
   ]
  },
  {
   "cell_type": "code",
   "execution_count": null,
   "id": "0e067d5e-1bb2-4b19-af93-64ebce9a210e",
   "metadata": {},
   "outputs": [
    {
     "name": "stderr",
     "output_type": "stream",
     "text": [
      " 68%|██████▊   | 980/1441 [1:45:13<33:12,  4.32s/it]   "
     ]
    }
   ],
   "source": [
    "%%time\n",
    "\n",
    "# Initialize a dataframe\n",
    "df = None\n",
    "\n",
    "# Process all files\n",
    "for path in tqdm(sorted(os.listdir(test_filedir))) :\n",
    "    \n",
    "    # Avoid strange files\n",
    "    if '(' in path or not(path.endswith('parquet')) : continue\n",
    "    \n",
    "    # Open file and create features\n",
    "    df_tmp = create_df_from_filepath(test_filedir + path)\n",
    "            \n",
    "    # Complete dataframe\n",
    "    if df is None :\n",
    "        df = df_tmp.copy()\n",
    "    else :\n",
    "        df = pd.concat([df, df_tmp[useful_cols]])\n",
    "    \n",
    "# Show\n",
    "print(df.shape)\n",
    "df.head()"
   ]
  },
  {
   "cell_type": "code",
   "execution_count": null,
   "id": "b3bd30bc-c61c-4dc4-9450-e4db771ff599",
   "metadata": {},
   "outputs": [],
   "source": [
    "# Save to csv for later use\n",
    "df.to_csv('df_test.csv', index=False)"
   ]
  }
 ],
 "metadata": {
  "kernelspec": {
   "display_name": "DACC_standard - Python",
   "language": "python",
   "name": "conda-env-DACC_standard-py"
  },
  "language_info": {
   "codemirror_mode": {
    "name": "ipython",
    "version": 3
   },
   "file_extension": ".py",
   "mimetype": "text/x-python",
   "name": "python",
   "nbconvert_exporter": "python",
   "pygments_lexer": "ipython3",
   "version": "3.8.19"
  }
 },
 "nbformat": 4,
 "nbformat_minor": 5
}
