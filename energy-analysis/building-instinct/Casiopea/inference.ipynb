{
 "cells": [
  {
   "cell_type": "markdown",
   "id": "4ac50322-1ac6-43b5-b067-3171f42c9e67",
   "metadata": {},
   "source": "# Load libraries"
  },
  {
   "metadata": {
    "ExecuteTime": {
     "end_time": "2024-10-04T22:20:06.023286Z",
     "start_time": "2024-10-04T22:20:06.019836Z"
    }
   },
   "cell_type": "code",
   "source": [
    "import os\n",
    "from tqdm import tqdm\n",
    "import polars as pl\n",
    "import glob"
   ],
   "id": "f6167c83f17cdea0",
   "outputs": [],
   "execution_count": 42
  },
  {
   "metadata": {},
   "cell_type": "markdown",
   "source": "# Parameters",
   "id": "4189e38f725d2e79"
  },
  {
   "metadata": {
    "ExecuteTime": {
     "end_time": "2024-10-04T11:18:48.375896Z",
     "start_time": "2024-10-04T11:18:48.372800Z"
    }
   },
   "cell_type": "code",
   "source": [
    "TEST_DIRECTORY = './data/onward/building-instinct-test-data'\n",
    "SAVE_TEST = './private_onward'\n",
    "name_file = 'test_private_onward'"
   ],
   "id": "7f6e2fd8d40971f9",
   "outputs": [],
   "execution_count": 9
  },
  {
   "metadata": {},
   "cell_type": "markdown",
   "source": "# Unify time series",
   "id": "cf03d267295bc335"
  },
  {
   "metadata": {
    "ExecuteTime": {
     "end_time": "2024-10-04T11:18:48.425264Z",
     "start_time": "2024-10-04T11:18:48.420356Z"
    }
   },
   "cell_type": "code",
   "source": [
    "def group_series_single_dataframe(read_dir,save_dir,name_file):\n",
    "    # PUT ALL TIME SERIES IN A SINGLE FILE\n",
    "    ALL = []\n",
    "    for fn in tqdm(glob.glob(f'{read_dir}/*.parquet')):\n",
    "        tmp = pl.read_parquet(fn).rename({\n",
    "            'out.electricity.total.energy_consumption': 'energy',\n",
    "            'in.state': 'state'\n",
    "        }).with_columns([\n",
    "            pl.col('energy').cast(pl.Float32).alias('energy'),\n",
    "            pl.col('timestamp').dt.cast_time_unit(\"ms\").dt.replace_time_zone(None).alias('timestamp')#.to_datetime(\"%Y-%m-%d %H:%M%#z\")\n",
    "        ])\n",
    "        ALL.append(tmp)\n",
    "    ALL = pl.concat(ALL)\n",
    "\n",
    "    try:\n",
    "        os.makedirs(f'{save_dir}')\n",
    "    except OSError:\n",
    "        pass\n",
    "\n",
    "    ALL.write_parquet(f'{save_dir}/{name_file}.parquet')\n",
    "    return ALL"
   ],
   "id": "c22254641805f01b",
   "outputs": [],
   "execution_count": 10
  },
  {
   "metadata": {
    "ExecuteTime": {
     "end_time": "2024-10-04T11:18:55.183186Z",
     "start_time": "2024-10-04T11:18:48.477137Z"
    }
   },
   "cell_type": "code",
   "source": "group_series_single_dataframe(TEST_DIRECTORY, SAVE_TEST, name_file)",
   "id": "8d13a02b99488115",
   "outputs": [
    {
     "name": "stderr",
     "output_type": "stream",
     "text": [
      "100%|██████████| 1440/1440 [00:02<00:00, 645.56it/s]\n"
     ]
    },
    {
     "data": {
      "text/plain": [
       "shape: (50_457_600, 4)\n",
       "┌─────────────────────┬───────────┬───────┬─────────┐\n",
       "│ timestamp           ┆ energy    ┆ state ┆ bldg_id │\n",
       "│ ---                 ┆ ---       ┆ ---   ┆ ---     │\n",
       "│ datetime[ms]        ┆ f32       ┆ str   ┆ i64     │\n",
       "╞═════════════════════╪═══════════╪═══════╪═════════╡\n",
       "│ 2018-01-01 00:15:00 ┆ 14.847511 ┆ NY    ┆ 498     │\n",
       "│ 2018-01-01 00:30:00 ┆ 14.887037 ┆ NY    ┆ 498     │\n",
       "│ 2018-01-01 00:45:00 ┆ 14.968305 ┆ NY    ┆ 498     │\n",
       "│ 2018-01-01 01:00:00 ┆ 15.069287 ┆ NY    ┆ 498     │\n",
       "│ 2018-01-01 01:15:00 ┆ 15.093472 ┆ NY    ┆ 498     │\n",
       "│ …                   ┆ …         ┆ …     ┆ …       │\n",
       "│ 2018-12-31 23:00:00 ┆ 3.830655  ┆ MS    ┆ 502     │\n",
       "│ 2018-12-31 23:15:00 ┆ 3.296935  ┆ MS    ┆ 502     │\n",
       "│ 2018-12-31 23:30:00 ┆ 4.103808  ┆ MS    ┆ 502     │\n",
       "│ 2018-12-31 23:45:00 ┆ 3.926059  ┆ MS    ┆ 502     │\n",
       "│ 2019-01-01 00:00:00 ┆ 3.818198  ┆ MS    ┆ 502     │\n",
       "└─────────────────────┴───────────┴───────┴─────────┘"
      ],
      "text/html": [
       "<div><style>\n",
       ".dataframe > thead > tr,\n",
       ".dataframe > tbody > tr {\n",
       "  text-align: right;\n",
       "  white-space: pre-wrap;\n",
       "}\n",
       "</style>\n",
       "<small>shape: (50_457_600, 4)</small><table border=\"1\" class=\"dataframe\"><thead><tr><th>timestamp</th><th>energy</th><th>state</th><th>bldg_id</th></tr><tr><td>datetime[ms]</td><td>f32</td><td>str</td><td>i64</td></tr></thead><tbody><tr><td>2018-01-01 00:15:00</td><td>14.847511</td><td>&quot;NY&quot;</td><td>498</td></tr><tr><td>2018-01-01 00:30:00</td><td>14.887037</td><td>&quot;NY&quot;</td><td>498</td></tr><tr><td>2018-01-01 00:45:00</td><td>14.968305</td><td>&quot;NY&quot;</td><td>498</td></tr><tr><td>2018-01-01 01:00:00</td><td>15.069287</td><td>&quot;NY&quot;</td><td>498</td></tr><tr><td>2018-01-01 01:15:00</td><td>15.093472</td><td>&quot;NY&quot;</td><td>498</td></tr><tr><td>&hellip;</td><td>&hellip;</td><td>&hellip;</td><td>&hellip;</td></tr><tr><td>2018-12-31 23:00:00</td><td>3.830655</td><td>&quot;MS&quot;</td><td>502</td></tr><tr><td>2018-12-31 23:15:00</td><td>3.296935</td><td>&quot;MS&quot;</td><td>502</td></tr><tr><td>2018-12-31 23:30:00</td><td>4.103808</td><td>&quot;MS&quot;</td><td>502</td></tr><tr><td>2018-12-31 23:45:00</td><td>3.926059</td><td>&quot;MS&quot;</td><td>502</td></tr><tr><td>2019-01-01 00:00:00</td><td>3.818198</td><td>&quot;MS&quot;</td><td>502</td></tr></tbody></table></div>"
      ]
     },
     "execution_count": 11,
     "metadata": {},
     "output_type": "execute_result"
    }
   ],
   "execution_count": 11
  },
  {
   "metadata": {},
   "cell_type": "markdown",
   "source": "# Extract features and save",
   "id": "8b4beaba0123b7dd"
  },
  {
   "metadata": {
    "ExecuteTime": {
     "end_time": "2024-10-04T11:18:55.607113Z",
     "start_time": "2024-10-04T11:18:55.212007Z"
    }
   },
   "cell_type": "code",
   "source": "os.system('python ./src/preprocess.py --read_dir ./private_onward --save_dir ./private_onward/data_ready')",
   "id": "667230f645ec050e",
   "outputs": [
    {
     "name": "stdout",
     "output_type": "stream",
     "text": [
      "READ_FOLDER ./private_onward\n",
      "SAVE_FOLDER ./private_onward/data_ready\n",
      "././private_onward/test_private_onward.parquet\n",
      "././private_onward/test_private_onward.parquet -> Already done\n",
      "././private_onward/test_private_onward.parquet -> Already done\n",
      "././private_onward/test_private_onward.parquet -> Already done\n",
      "././private_onward/test_private_onward.parquet -> Already done\n"
     ]
    },
    {
     "data": {
      "text/plain": [
       "0"
      ]
     },
     "execution_count": 12,
     "metadata": {},
     "output_type": "execute_result"
    }
   ],
   "execution_count": 12
  },
  {
   "metadata": {},
   "cell_type": "markdown",
   "source": "# Make inference and save submission",
   "id": "1638530b41ec56ed"
  },
  {
   "metadata": {
    "ExecuteTime": {
     "end_time": "2024-10-04T11:28:17.815949Z",
     "start_time": "2024-10-04T11:28:02.110375Z"
    }
   },
   "cell_type": "code",
   "source": "os.system('python inference.py --read_dir ./private_onward/data_ready')",
   "id": "f5f66865187cee3d",
   "outputs": [
    {
     "name": "stdout",
     "output_type": "stream",
     "text": [
      "Reading -> energy\n",
      "Reading -> energy_div_1\n",
      "Reading -> energy_diff_abs_1\n",
      "Reading -> energy_diff_abs_2\n",
      "Dataset size (1440, 2830)\n"
     ]
    },
    {
     "data": {
      "text/plain": [
       "0"
      ]
     },
     "execution_count": 20,
     "metadata": {},
     "output_type": "execute_result"
    }
   ],
   "execution_count": 20
  }
 ],
 "metadata": {
  "kernelspec": {
   "display_name": "Python 3 (ipykernel)",
   "language": "python",
   "name": "python3"
  },
  "language_info": {
   "codemirror_mode": {
    "name": "ipython",
    "version": 3
   },
   "file_extension": ".py",
   "mimetype": "text/x-python",
   "name": "python",
   "nbconvert_exporter": "python",
   "pygments_lexer": "ipython3",
   "version": "3.10.14"
  }
 },
 "nbformat": 4,
 "nbformat_minor": 5
}
