{
 "cells": [
  {
   "cell_type": "markdown",
   "id": "3ed2ddcb",
   "metadata": {},
   "source": [
    "<h1>Import Necessary Libraries</h1>"
   ]
  },
  {
   "cell_type": "code",
   "execution_count": null,
   "id": "7fd2aa4b",
   "metadata": {},
   "outputs": [],
   "source": [
    "\n",
    "import os\n",
    "import numpy as np\n",
    "from utils import *\n",
    "import keras\n",
    "import segmentation_models_3D as sm"
   ]
  },
  {
   "cell_type": "markdown",
   "id": "500fc756",
   "metadata": {},
   "source": [
    "<h1>Load model checkpoint from local directory</h1>"
   ]
  },
  {
   "cell_type": "code",
   "execution_count": null,
   "id": "015446c3",
   "metadata": {},
   "outputs": [],
   "source": [
    "BACKBONE = 'resnet50'\n",
    "preprocess_input = sm.get_preprocessing(BACKBONE)\n",
    "IMG_SIZE=320\n",
    "\n",
    "model = sm.Unet(\n",
    "    BACKBONE, \n",
    "    input_shape=(IMG_SIZE, IMG_SIZE, IMG_SIZE, 1), \n",
    "    encoder_weights=None, \n",
    "    classes=1\n",
    ")\n",
    "\n",
    "#load model checkpoint\n",
    "model.load_weights('darkvol_unet0_86.4.weights.h5') \n",
    "\n",
    "#model = keras.models.load_model('darlvol_fold0_86.3.keras')"
   ]
  },
  {
   "cell_type": "markdown",
   "id": "56dea424",
   "metadata": {},
   "source": [
    "<h1>Read sample_IDs from \"test_data\" folder</h1>"
   ]
  },
  {
   "cell_type": "code",
   "execution_count": null,
   "id": "bf003eb9",
   "metadata": {},
   "outputs": [],
   "source": [
    "# Directory path\n",
    "testing_data = os.path.join(\n",
    "    os.getcwd(), \"test_data\"\n",
    ")  # 'path to your training data'\n",
    "\n",
    "# List to store the names of subfolders (sample IDs)\n",
    "sample_ids = []\n",
    "\n",
    "# Iterate over the items in the directory\n",
    "for item in os.listdir(testing_data):\n",
    "    item_path = os.path.join(testing_data, item)\n",
    "    if os.path.isdir(item_path):\n",
    "        sample_ids.append(item)\n",
    "\n"
   ]
  },
  {
   "cell_type": "code",
   "execution_count": null,
   "id": "8a7c8521",
   "metadata": {},
   "outputs": [],
   "source": [
    "#loop over each test sample\n",
    "for idx in range(len(sample_ids)):\n",
    "    # Choosing one of the samples\n",
    "    sample_id = sample_ids[idx]\n",
    "    \n",
    "    # Path to the subfolder/sample\n",
    "    sample_path = os.path.join(testing_data, sample_id)\n",
    "    \n",
    "    # List and print all files in the sample subfolder\n",
    "    files = os.listdir(sample_path)\n",
    "    print('processing sample', idx)\n",
    "    \n",
    "    # Iterate over the files and load the .npy files.\n",
    "    for file in files:\n",
    "        if file.startswith(\"seismicCubes_\") and file.endswith(\".npy\"):\n",
    "            seismic = np.load(os.path.join(sample_path, file), allow_pickle=True)\n",
    "           \n",
    "            seismic_rescaled = rescale_volume(seismic, low=2, high=98).astype(np.uint8)\n",
    "            fault = []\n",
    "            for i in range(4): #each seismic sample was divided into 4 parts\n",
    "                z = i*320 \n",
    "                image = np.zeros((320,320,320), dtype=np.float32)\n",
    "                img_data = seismic_rescaled[0:300, 0:300, z:min(z+320, 1259)]/255.0\n",
    "                _, _, dz = img_data.shape\n",
    "                image[10:310, 10:310, 0:dz] = img_data\n",
    "\n",
    "                #transformation for TTA\n",
    "                image2 = image[::-1, :, :]\n",
    "                image3 = image[:, ::-1, :]\n",
    "                image4 = image[:, :, ::-1]\n",
    "                image5 = image[::-1, ::-1, ::-1]\n",
    "\n",
    "                #get prediction\n",
    "                image = np.reshape( preprocess_input(image), (1,320,320,320,1))\n",
    "                image2 = np.reshape( preprocess_input(image2), (1,320,320,320,1))\n",
    "                image3 = np.reshape( preprocess_input(image3), (1,320,320,320,1))\n",
    "                image4 = np.reshape( preprocess_input(image4), (1,320,320,320,1))\n",
    "                image5 = np.reshape( preprocess_input(image5), (1,320,320,320,1))\n",
    "\n",
    "                #apply 5xTTA\n",
    "                r1 = model.predict(image, verbose=0)[0,:,:,:,0]\n",
    "                r2 = model.predict(image2, verbose=0)[0,:,:,:,0]\n",
    "                r3 = model.predict(image3, verbose=0)[0,:,:,:,0]\n",
    "                r4 = model.predict(image4, verbose=0)[0,:,:,:,0]\n",
    "                r5 = model.predict(image5, verbose=0)[0,:,:,:,0]\n",
    "                \n",
    "                r1 = r1 + r2[::-1, :, :] + r3[:, ::-1, :] + r4[:, :, ::-1] + r5[::-1, ::-1, ::-1]\n",
    "\n",
    "                fault.append(r1/5.0)\n",
    "\n",
    "            #each prediction volumes are of shape 320x320x320 and are stacked along z-axis\n",
    "            fault = np.concatenate(fault, axis=2)\n",
    "\n",
    "            #the predicted volumes contain 10px paddings in x and y axes around the actual fault\n",
    "            fault = fault[10:310, 10:310, 0:1259]  #actual fault volume\n",
    "            fault = (fault > 0.45).astype(np.uint8)\n",
    "\n",
    "            \n",
    "            # this line creates the submission .npz file and populates it with sample IDs and their fault coordinates\n",
    "            create_submission(sample_id, fault, \"submission_TTA.npz\", append=True)            \n",
    "      \n",
    "\n"
   ]
  },
  {
   "cell_type": "code",
   "execution_count": null,
   "id": "208811b3",
   "metadata": {},
   "outputs": [],
   "source": []
  }
 ],
 "metadata": {
  "kernelspec": {
   "display_name": "conda_python3",
   "language": "python",
   "name": "conda_python3"
  },
  "language_info": {
   "codemirror_mode": {
    "name": "ipython",
    "version": 3
   },
   "file_extension": ".py",
   "mimetype": "text/x-python",
   "name": "python",
   "nbconvert_exporter": "python",
   "pygments_lexer": "ipython3",
   "version": "3.10.16"
  }
 },
 "nbformat": 4,
 "nbformat_minor": 5
}
