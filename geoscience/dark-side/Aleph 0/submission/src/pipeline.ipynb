{
 "cells": [
  {
   "cell_type": "code",
   "id": "initial_id",
   "metadata": {
    "collapsed": true,
    "ExecuteTime": {
     "end_time": "2025-01-12T16:45:44.758164Z",
     "start_time": "2025-01-12T16:45:43.200674Z"
    }
   },
   "source": [
    "import pickle\n",
    "import os\n",
    "import tensorflow as tf\n",
    "import numpy as np\n",
    "from utils import preprocess_raw_data, get_prediction, create_submission"
   ],
   "outputs": [
    {
     "name": "stderr",
     "output_type": "stream",
     "text": [
      "2025-01-12 17:45:43.335722: E external/local_xla/xla/stream_executor/cuda/cuda_fft.cc:485] Unable to register cuFFT factory: Attempting to register factory for plugin cuFFT when one has already been registered\n",
      "2025-01-12 17:45:43.346962: E external/local_xla/xla/stream_executor/cuda/cuda_dnn.cc:8454] Unable to register cuDNN factory: Attempting to register factory for plugin cuDNN when one has already been registered\n",
      "2025-01-12 17:45:43.350208: E external/local_xla/xla/stream_executor/cuda/cuda_blas.cc:1452] Unable to register cuBLAS factory: Attempting to register factory for plugin cuBLAS when one has already been registered\n",
      "2025-01-12 17:45:43.359143: I tensorflow/core/platform/cpu_feature_guard.cc:210] This TensorFlow binary is optimized to use available CPU instructions in performance-critical operations.\n",
      "To enable the following instructions: AVX2 FMA, in other operations, rebuild TensorFlow with the appropriate compiler flags.\n",
      "2025-01-12 17:45:43.956896: W tensorflow/compiler/tf2tensorrt/utils/py_utils.cc:38] TF-TRT Warning: Could not find TensorRT\n"
     ]
    }
   ],
   "execution_count": 1
  },
  {
   "metadata": {
    "ExecuteTime": {
     "end_time": "2025-01-12T16:45:48.508799Z",
     "start_time": "2025-01-12T16:45:44.759205Z"
    }
   },
   "cell_type": "code",
   "source": [
    "# Preprocess raw data and save it as numpy files\n",
    "data_path = '../data/'\n",
    "preprocess_raw_data(data_path)"
   ],
   "id": "f09a21742ba58c29",
   "outputs": [
    {
     "name": "stdout",
     "output_type": "stream",
     "text": [
      "\n",
      " Files in the sample subfolder: ['seismicCubes_RFC_fullstack_2023.76113489.npy']\n",
      "\n",
      " Files in the sample subfolder: ['seismicCubes_RFC_fullstack_2023.76167908.npy']\n"
     ]
    }
   ],
   "execution_count": 2
  },
  {
   "metadata": {
    "ExecuteTime": {
     "end_time": "2025-01-12T16:45:48.542839Z",
     "start_time": "2025-01-12T16:45:48.509695Z"
    }
   },
   "cell_type": "code",
   "source": [
    "# load volumes ids for the submission\n",
    "with open(os.path.join(data_path, 'file_ids.pkl'), 'rb') as f:\n",
    "    files_ids = pickle.load(f)\n",
    "\n",
    "# load numpy files processed\n",
    "seismic = np.load(os.path.join(data_path, 'seismic_processed.npy'))"
   ],
   "id": "579d59492c3a19c9",
   "outputs": [],
   "execution_count": 3
  },
  {
   "metadata": {
    "ExecuteTime": {
     "end_time": "2025-01-12T16:45:50.389054Z",
     "start_time": "2025-01-12T16:45:48.543619Z"
    }
   },
   "cell_type": "code",
   "source": [
    "# load the pretrained model\n",
    "path_model = '../model/final_model.keras'\n",
    "model_inference = tf.keras.models.load_model(path_model, compile=False)"
   ],
   "id": "c775167c1516ae26",
   "outputs": [
    {
     "name": "stderr",
     "output_type": "stream",
     "text": [
      "WARNING: All log messages before absl::InitializeLog() is called are written to STDERR\n",
      "I0000 00:00:1736700348.574259  642624 cuda_executor.cc:1015] successful NUMA node read from SysFS had negative value (-1), but there must be at least one NUMA node, so returning NUMA node zero. See more at https://github.com/torvalds/linux/blob/v6.0/Documentation/ABI/testing/sysfs-bus-pci#L344-L355\n",
      "I0000 00:00:1736700348.604806  642624 cuda_executor.cc:1015] successful NUMA node read from SysFS had negative value (-1), but there must be at least one NUMA node, so returning NUMA node zero. See more at https://github.com/torvalds/linux/blob/v6.0/Documentation/ABI/testing/sysfs-bus-pci#L344-L355\n",
      "I0000 00:00:1736700348.605004  642624 cuda_executor.cc:1015] successful NUMA node read from SysFS had negative value (-1), but there must be at least one NUMA node, so returning NUMA node zero. See more at https://github.com/torvalds/linux/blob/v6.0/Documentation/ABI/testing/sysfs-bus-pci#L344-L355\n",
      "I0000 00:00:1736700348.606871  642624 cuda_executor.cc:1015] successful NUMA node read from SysFS had negative value (-1), but there must be at least one NUMA node, so returning NUMA node zero. See more at https://github.com/torvalds/linux/blob/v6.0/Documentation/ABI/testing/sysfs-bus-pci#L344-L355\n",
      "I0000 00:00:1736700348.607028  642624 cuda_executor.cc:1015] successful NUMA node read from SysFS had negative value (-1), but there must be at least one NUMA node, so returning NUMA node zero. See more at https://github.com/torvalds/linux/blob/v6.0/Documentation/ABI/testing/sysfs-bus-pci#L344-L355\n",
      "I0000 00:00:1736700348.607169  642624 cuda_executor.cc:1015] successful NUMA node read from SysFS had negative value (-1), but there must be at least one NUMA node, so returning NUMA node zero. See more at https://github.com/torvalds/linux/blob/v6.0/Documentation/ABI/testing/sysfs-bus-pci#L344-L355\n",
      "I0000 00:00:1736700348.667824  642624 cuda_executor.cc:1015] successful NUMA node read from SysFS had negative value (-1), but there must be at least one NUMA node, so returning NUMA node zero. See more at https://github.com/torvalds/linux/blob/v6.0/Documentation/ABI/testing/sysfs-bus-pci#L344-L355\n",
      "I0000 00:00:1736700348.667991  642624 cuda_executor.cc:1015] successful NUMA node read from SysFS had negative value (-1), but there must be at least one NUMA node, so returning NUMA node zero. See more at https://github.com/torvalds/linux/blob/v6.0/Documentation/ABI/testing/sysfs-bus-pci#L344-L355\n",
      "I0000 00:00:1736700348.668134  642624 cuda_executor.cc:1015] successful NUMA node read from SysFS had negative value (-1), but there must be at least one NUMA node, so returning NUMA node zero. See more at https://github.com/torvalds/linux/blob/v6.0/Documentation/ABI/testing/sysfs-bus-pci#L344-L355\n",
      "2025-01-12 17:45:48.668258: I tensorflow/core/common_runtime/gpu/gpu_device.cc:2021] Created device /job:localhost/replica:0/task:0/device:GPU:0 with 8251 MB memory:  -> device: 0, name: NVIDIA GeForce RTX 3080, pci bus id: 0000:09:00.0, compute capability: 8.6\n"
     ]
    }
   ],
   "execution_count": 4
  },
  {
   "metadata": {
    "ExecuteTime": {
     "end_time": "2025-01-12T16:52:26.326765Z",
     "start_time": "2025-01-12T16:45:50.390235Z"
    }
   },
   "cell_type": "code",
   "source": [
    "# Create submission file\n",
    "for ind, sample_id in enumerate(files_ids):\n",
    "    sample_id = sample_id.split('/')[-1]\n",
    "    print('sample_id', sample_id)\n",
    "    seismic_test = seismic[ind]\n",
    "    seismic_test = np.expand_dims(seismic_test, axis=0)\n",
    "    \n",
    "    # get the prediction for this volume\n",
    "    prediction = get_prediction(model_inference, seismic_test, model_size_input=128, axis_order=[0, 1, 2], overlap=32)\n",
    "    \n",
    "    if np.sum(prediction) < 20_000:\n",
    "        prediction = prediction*0\n",
    "    if prediction.shape[0] == 1:\n",
    "        prediction = prediction[0]\n",
    "\n",
    "    submission_path = os.path.join(data_path, 'submission.npz')\n",
    "    # this line creates the submission .npz file and populates it with sample IDs and their fault coordinates\n",
    "    create_submission(sample_id, prediction, submission_path, append=True)"
   ],
   "id": "11231cb9f37e6a48",
   "outputs": [
    {
     "name": "stdout",
     "output_type": "stream",
     "text": [
      "sample_id 2023-10-05_eff8c5d7\n"
     ]
    },
    {
     "name": "stderr",
     "output_type": "stream",
     "text": [
      "WARNING: All log messages before absl::InitializeLog() is called are written to STDERR\n",
      "I0000 00:00:1736700352.028819  642884 service.cc:146] XLA service 0x71f84406ff80 initialized for platform CUDA (this does not guarantee that XLA will be used). Devices:\n",
      "I0000 00:00:1736700352.028835  642884 service.cc:154]   StreamExecutor device (0): NVIDIA GeForce RTX 3080, Compute Capability 8.6\n",
      "2025-01-12 17:45:52.074896: I tensorflow/compiler/mlir/tensorflow/utils/dump_mlir_util.cc:268] disabling MLIR crash reproducer, set env var `MLIR_CRASH_REPRODUCER_DIRECTORY` to enable.\n",
      "2025-01-12 17:45:52.477972: I external/local_xla/xla/stream_executor/cuda/cuda_dnn.cc:531] Loaded cuDNN version 8907\n",
      "2025-01-12 17:45:55.154272: W external/local_tsl/tsl/framework/bfc_allocator.cc:291] Allocator (GPU_0_bfc) ran out of memory trying to allocate 4.41GiB with freed_by_count=0. The caller indicates that this is not a failure, but this may mean that there could be performance gains if more memory were available.\n",
      "I0000 00:00:1736700360.039077  642884 device_compiler.h:188] Compiled cluster using XLA!  This line is logged at most once for the lifetime of the process.\n"
     ]
    },
    {
     "name": "stdout",
     "output_type": "stream",
     "text": [
      "File not found, new submission will be created.\n",
      "sample_id 2023-10-05_ef826453\n"
     ]
    }
   ],
   "execution_count": 5
  }
 ],
 "metadata": {
  "kernelspec": {
   "display_name": "Python 3",
   "language": "python",
   "name": "python3"
  },
  "language_info": {
   "codemirror_mode": {
    "name": "ipython",
    "version": 2
   },
   "file_extension": ".py",
   "mimetype": "text/x-python",
   "name": "python",
   "nbconvert_exporter": "python",
   "pygments_lexer": "ipython2",
   "version": "2.7.6"
  }
 },
 "nbformat": 4,
 "nbformat_minor": 5
}
