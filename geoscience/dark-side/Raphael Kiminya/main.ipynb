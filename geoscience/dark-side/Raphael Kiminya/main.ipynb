{
 "cells": [
  {
   "cell_type": "markdown",
   "id": "8934392b",
   "metadata": {
    "id": "R42sHxenX--S"
   },
   "source": [
    "# Install packages"
   ]
  },
  {
   "cell_type": "code",
   "execution_count": null,
   "id": "676f8062",
   "metadata": {
    "id": "R1Bfg0kzYAH4"
   },
   "outputs": [],
   "source": [
    "!pip install -r requirements.txt\n"
   ]
  },
  {
   "cell_type": "code",
   "execution_count": null,
   "id": "cb69f2de",
   "metadata": {
    "id": "IAHMWrSv1kqr"
   },
   "outputs": [],
   "source": []
  },
  {
   "cell_type": "markdown",
   "id": "d94b3f63",
   "metadata": {
    "id": "Wt5cg_97egi5"
   },
   "source": [
    "# Download extra dataset, pretrained models"
   ]
  },
  {
   "cell_type": "code",
   "execution_count": null,
   "id": "4a2a3ea1",
   "metadata": {
    "id": "HbwBZyWVkopX"
   },
   "outputs": [],
   "source": [
    "# Extra dataset generated with synthoseis\n",
    "!gdown -O extra.zip --id 1-Hd3tlRGRh7_krFTL1yEPZrYlUTs_4BV\n",
    "!unzip -qqnd data extra.zip"
   ]
  },
  {
   "cell_type": "code",
   "execution_count": null,
   "id": "2d93127e",
   "metadata": {
    "id": "qF4dnQJ0ejHn"
   },
   "outputs": [],
   "source": [
    "# Pretrained models\n",
    "!gdown -O output.zip --id 1-A2QdCkepek1wrY3jpmkVbuRvG2F-7Zl\n",
    "!unzip -qqn output.zip\n"
   ]
  },
  {
   "cell_type": "code",
   "execution_count": null,
   "id": "d13b8bba",
   "metadata": {
    "id": "2iBbdI4QejR2"
   },
   "outputs": [],
   "source": []
  },
  {
   "cell_type": "markdown",
   "id": "6ac2cedf",
   "metadata": {
    "id": "BsQGNhbPNGiu"
   },
   "source": [
    "# Preprocessing\n",
    "\n",
    "Rescale seismic 3D volumes to a 0-255 range, compress using HDF5 and NumPy formats."
   ]
  },
  {
   "cell_type": "code",
   "execution_count": null,
   "id": "a902d565",
   "metadata": {
    "id": "Ol1F4oUtNSgD"
   },
   "outputs": [],
   "source": [
    "# Extract raw volume files to data directory\n",
    "!unzip -qqnd data/train dark-side-train-data-*.zip\n",
    "!unzip -qqnd data/test dark-side-test-data-*.zip\n"
   ]
  },
  {
   "cell_type": "code",
   "execution_count": null,
   "id": "5e4c507b",
   "metadata": {
    "id": "Sd1zCJkUN4It"
   },
   "outputs": [],
   "source": [
    "!python preprocess.py"
   ]
  },
  {
   "cell_type": "markdown",
   "id": "291457ed",
   "metadata": {
    "id": "rwP7bkmbRvZV"
   },
   "source": [
    "# Pre-train"
   ]
  },
  {
   "cell_type": "code",
   "execution_count": null,
   "id": "63801b73",
   "metadata": {
    "id": "6bOC4OUVNdNA"
   },
   "outputs": [],
   "source": []
  },
  {
   "cell_type": "code",
   "execution_count": null,
   "id": "06da09d1",
   "metadata": {
    "id": "eQQqfkAmRyYM"
   },
   "outputs": [],
   "source": [
    "!python pretrain.py"
   ]
  },
  {
   "cell_type": "markdown",
   "id": "c9d97438",
   "metadata": {
    "id": "bhxAlqwfWJB4"
   },
   "source": [
    "# Train"
   ]
  },
  {
   "cell_type": "code",
   "execution_count": null,
   "id": "fe216aa1",
   "metadata": {
    "id": "BC1vJ45WWKOL"
   },
   "outputs": [],
   "source": []
  },
  {
   "cell_type": "code",
   "execution_count": null,
   "id": "fd38a7eb",
   "metadata": {
    "id": "Wy54ep8xWKRr"
   },
   "outputs": [],
   "source": [
    "!python train.py"
   ]
  },
  {
   "cell_type": "markdown",
   "id": "b771ee3b",
   "metadata": {
    "id": "HRp2QgB_8059"
   },
   "source": [
    "# Inference"
   ]
  },
  {
   "cell_type": "code",
   "execution_count": null,
   "id": "f5be153f",
   "metadata": {
    "id": "8d874866",
    "papermill": {
     "duration": 0.156144,
     "end_time": "2025-01-03T17:34:46.625454",
     "exception": false,
     "start_time": "2025-01-03T17:34:46.469310",
     "status": "completed"
    },
    "tags": []
   },
   "outputs": [],
   "source": []
  },
  {
   "cell_type": "code",
   "execution_count": 2,
   "id": "6caee6fa",
   "metadata": {
    "id": "-_b2v8tr7ocL"
   },
   "outputs": [],
   "source": [
    "!python inference.py"
   ]
  }
 ],
 "metadata": {
  "accelerator": "GPU",
  "colab": {
   "gpuType": "T4",
   "provenance": []
  },
  "kaggle": {
   "accelerator": "gpu",
   "dataSources": [],
   "isGpuEnabled": true,
   "isInternetEnabled": true,
   "language": "python",
   "sourceType": "notebook"
  },
  "kernelspec": {
   "display_name": "conda_python3",
   "language": "python",
   "name": "conda_python3"
  },
  "language_info": {
   "codemirror_mode": {
    "name": "ipython",
    "version": 3
   },
   "file_extension": ".py",
   "mimetype": "text/x-python",
   "name": "python",
   "nbconvert_exporter": "python",
   "pygments_lexer": "ipython3",
   "version": "3.10.16"
  },
  "papermill": {
   "default_parameters": {},
   "duration": 14789.893839,
   "end_time": "2025-01-03T21:26:51.387028",
   "environment_variables": {},
   "exception": null,
   "input_path": "__notebook__.ipynb",
   "output_path": "__notebook__.ipynb",
   "parameters": {},
   "start_time": "2025-01-03T17:20:21.493189",
   "version": "2.6.0"
  }
 },
 "nbformat": 4,
 "nbformat_minor": 5
}
